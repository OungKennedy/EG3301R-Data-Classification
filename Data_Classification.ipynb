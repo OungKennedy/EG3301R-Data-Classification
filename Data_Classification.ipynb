{
  "nbformat": 4,
  "nbformat_minor": 0,
  "metadata": {
    "colab": {
      "name": "Data Classification.ipynb",
      "provenance": [],
      "collapsed_sections": [],
      "authorship_tag": "ABX9TyNo8GWMNgNP+mgUMyh/u8S6",
      "include_colab_link": true
    },
    "kernelspec": {
      "name": "python3",
      "display_name": "Python 3"
    }
  },
  "cells": [
    {
      "cell_type": "markdown",
      "metadata": {
        "id": "view-in-github",
        "colab_type": "text"
      },
      "source": [
        "<a href=\"https://colab.research.google.com/github/OungKennedy/EG3301R-Data-Classification/blob/master/Data_Classification.ipynb\" target=\"_parent\"><img src=\"https://colab.research.google.com/assets/colab-badge.svg\" alt=\"Open In Colab\"/></a>"
      ]
    },
    {
      "cell_type": "markdown",
      "metadata": {
        "id": "OTqNNkOy0Lok",
        "colab_type": "text"
      },
      "source": [
        "# Data Classification for Spectacle Dongle"
      ]
    },
    {
      "cell_type": "markdown",
      "metadata": {
        "id": "Ymu_AqcE0VxD",
        "colab_type": "text"
      },
      "source": [
        "This project is related to EG3301R. A dongle is designed to be attached to a pair of spectacles. Data such as Time of Flight, Acceleration, yaw, pitch, roll and brightness are collected.\n",
        "\n",
        "This notebook documents the process in developing a model for classifying the actions of the user based on the data collected."
      ]
    },
    {
      "cell_type": "code",
      "metadata": {
        "id": "6p2wXuCD0Wsy",
        "colab_type": "code",
        "colab": {
          "base_uri": "https://localhost:8080/",
          "height": 50
        },
        "outputId": "3d7e031d-581c-434f-a282-feae77954904"
      },
      "source": [
        "%load_ext autoreload\n",
        "%autoreload 2\n",
        "\n",
        "%matplotlib inline"
      ],
      "execution_count": 33,
      "outputs": [
        {
          "output_type": "stream",
          "text": [
            "The autoreload extension is already loaded. To reload it, use:\n",
            "  %reload_ext autoreload\n"
          ],
          "name": "stdout"
        }
      ]
    },
    {
      "cell_type": "markdown",
      "metadata": {
        "id": "SLCedBt10jpi",
        "colab_type": "text"
      },
      "source": [
        "First Iteration\n",
        "data by Bryan LMK, collected on 23 Jun 2020"
      ]
    },
    {
      "cell_type": "code",
      "metadata": {
        "id": "_BcjD_dg0cm3",
        "colab_type": "code",
        "colab": {}
      },
      "source": [
        "# !pip install fastai==0.7.0\n",
        "# !pip install scikit-learn==0.21.3"
      ],
      "execution_count": 34,
      "outputs": []
    },
    {
      "cell_type": "code",
      "metadata": {
        "id": "Jzl7OqF_05VM",
        "colab_type": "code",
        "colab": {
          "base_uri": "https://localhost:8080/",
          "height": 33
        },
        "outputId": "18aee2d6-ad6f-4394-f544-c88347d71723"
      },
      "source": [
        "from google.colab import drive\n",
        "drive.mount('/content/gdrive')"
      ],
      "execution_count": 35,
      "outputs": [
        {
          "output_type": "stream",
          "text": [
            "Drive already mounted at /content/gdrive; to attempt to forcibly remount, call drive.mount(\"/content/gdrive\", force_remount=True).\n"
          ],
          "name": "stdout"
        }
      ]
    },
    {
      "cell_type": "code",
      "metadata": {
        "id": "5FEr1BNC1C2k",
        "colab_type": "code",
        "colab": {}
      },
      "source": [
        "import os\n",
        "os.chdir('/content/gdrive/My Drive/EG3301R EIM-328/Machine Learning')"
      ],
      "execution_count": 36,
      "outputs": []
    },
    {
      "cell_type": "code",
      "metadata": {
        "id": "bG65NjDI0n20",
        "colab_type": "code",
        "colab": {}
      },
      "source": [
        "# from fastai.imports import *\n",
        "# from fastai.structured import *\n",
        "\n",
        "# from pandas_summary import DataFrameSummary\n",
        "import pandas as pd\n",
        "from sklearn.ensemble import RandomForestRegressor, RandomForestClassifier\n",
        "from IPython.display import display\n",
        "\n",
        "from sklearn import metrics\n",
        "from sklearn import model_selection\n",
        "\n",
        "import joblib"
      ],
      "execution_count": 37,
      "outputs": []
    },
    {
      "cell_type": "code",
      "metadata": {
        "id": "OcuCMMkjJcBd",
        "colab_type": "code",
        "colab": {}
      },
      "source": [
        "data_path = 'data/23 Jun 2020'"
      ],
      "execution_count": 47,
      "outputs": []
    },
    {
      "cell_type": "markdown",
      "metadata": {
        "id": "Fj95KhvR3FTf",
        "colab_type": "text"
      },
      "source": [
        "##Compiling Data"
      ]
    },
    {
      "cell_type": "code",
      "metadata": {
        "id": "LbvReu0O1f7c",
        "colab_type": "code",
        "colab": {
          "base_uri": "https://localhost:8080/",
          "height": 83
        },
        "outputId": "204d82be-e1f1-4b31-9f17-d248d3902073"
      },
      "source": [
        "data_path = 'data/23 Jun 2020'\n",
        "os.listdir(data_path)"
      ],
      "execution_count": 9,
      "outputs": [
        {
          "output_type": "execute_result",
          "data": {
            "text/plain": [
              "['Watching TV.txt',\n",
              " 'Exercise_Jumping Jacks.txt',\n",
              " 'UsingComputer&OccasionallyPhone.txt',\n",
              " 'WalkingAroundHouse.txt']"
            ]
          },
          "metadata": {
            "tags": []
          },
          "execution_count": 9
        }
      ]
    },
    {
      "cell_type": "markdown",
      "metadata": {
        "id": "7lPAYeH_387_",
        "colab_type": "text"
      },
      "source": [
        "### Examine Data"
      ]
    },
    {
      "cell_type": "code",
      "metadata": {
        "id": "iM-Y2-7Y3uyc",
        "colab_type": "code",
        "colab": {
          "base_uri": "https://localhost:8080/",
          "height": 197
        },
        "outputId": "493ed29e-4a08-410f-ea85-d48530a9f4f8"
      },
      "source": [
        "test_file = os.listdir(data_path)[0]\n",
        "test_data = pd.read_csv(os.path.join(data_path,test_file), skiprows=0,delimiter=',',header=1)\n",
        "# add label to data\n",
        "label = test_file.split('.')[0]\n",
        "test_data['label'] = label\n",
        "test_data.head()"
      ],
      "execution_count": 10,
      "outputs": [
        {
          "output_type": "execute_result",
          "data": {
            "text/html": [
              "<div>\n",
              "<style scoped>\n",
              "    .dataframe tbody tr th:only-of-type {\n",
              "        vertical-align: middle;\n",
              "    }\n",
              "\n",
              "    .dataframe tbody tr th {\n",
              "        vertical-align: top;\n",
              "    }\n",
              "\n",
              "    .dataframe thead th {\n",
              "        text-align: right;\n",
              "    }\n",
              "</style>\n",
              "<table border=\"1\" class=\"dataframe\">\n",
              "  <thead>\n",
              "    <tr style=\"text-align: right;\">\n",
              "      <th></th>\n",
              "      <th>Epoch</th>\n",
              "      <th>TOF_1</th>\n",
              "      <th>TOF_2</th>\n",
              "      <th>TOF_3</th>\n",
              "      <th>Accel</th>\n",
              "      <th>Yaw</th>\n",
              "      <th>Pitch</th>\n",
              "      <th>LDR</th>\n",
              "      <th>label</th>\n",
              "    </tr>\n",
              "  </thead>\n",
              "  <tbody>\n",
              "    <tr>\n",
              "      <th>0</th>\n",
              "      <td>1592923701</td>\n",
              "      <td>178</td>\n",
              "      <td>180</td>\n",
              "      <td>185</td>\n",
              "      <td>10</td>\n",
              "      <td>93</td>\n",
              "      <td>95</td>\n",
              "      <td>101</td>\n",
              "      <td>Watching TV</td>\n",
              "    </tr>\n",
              "    <tr>\n",
              "      <th>1</th>\n",
              "      <td>1592923702</td>\n",
              "      <td>255</td>\n",
              "      <td>255</td>\n",
              "      <td>255</td>\n",
              "      <td>9</td>\n",
              "      <td>98</td>\n",
              "      <td>90</td>\n",
              "      <td>94</td>\n",
              "      <td>Watching TV</td>\n",
              "    </tr>\n",
              "    <tr>\n",
              "      <th>2</th>\n",
              "      <td>1592923704</td>\n",
              "      <td>255</td>\n",
              "      <td>255</td>\n",
              "      <td>255</td>\n",
              "      <td>10</td>\n",
              "      <td>92</td>\n",
              "      <td>90</td>\n",
              "      <td>101</td>\n",
              "      <td>Watching TV</td>\n",
              "    </tr>\n",
              "    <tr>\n",
              "      <th>3</th>\n",
              "      <td>1592923705</td>\n",
              "      <td>255</td>\n",
              "      <td>255</td>\n",
              "      <td>255</td>\n",
              "      <td>9</td>\n",
              "      <td>92</td>\n",
              "      <td>12</td>\n",
              "      <td>81</td>\n",
              "      <td>Watching TV</td>\n",
              "    </tr>\n",
              "    <tr>\n",
              "      <th>4</th>\n",
              "      <td>1592923707</td>\n",
              "      <td>255</td>\n",
              "      <td>255</td>\n",
              "      <td>255</td>\n",
              "      <td>9</td>\n",
              "      <td>91</td>\n",
              "      <td>6</td>\n",
              "      <td>86</td>\n",
              "      <td>Watching TV</td>\n",
              "    </tr>\n",
              "  </tbody>\n",
              "</table>\n",
              "</div>"
            ],
            "text/plain": [
              "        Epoch   TOF_1   TOF_2   TOF_3   Accel   Yaw   Pitch   LDR         label\n",
              "0  1592923701     178     180     185      10    93      95    101  Watching TV\n",
              "1  1592923702     255     255     255       9    98      90     94  Watching TV\n",
              "2  1592923704     255     255     255      10    92      90    101  Watching TV\n",
              "3  1592923705     255     255     255       9    92      12     81  Watching TV\n",
              "4  1592923707     255     255     255       9    91       6     86  Watching TV"
            ]
          },
          "metadata": {
            "tags": []
          },
          "execution_count": 10
        }
      ]
    },
    {
      "cell_type": "code",
      "metadata": {
        "id": "_rB7Dsv73Q1f",
        "colab_type": "code",
        "colab": {}
      },
      "source": [
        "data = pd.DataFrame()\n",
        "for txt_file in os.listdir(data_path):\n",
        "    txt_path = os.path.join(data_path, txt_file)\n",
        "    partial_data = pd.read_csv(txt_path, skiprows=0,delimiter=',',header=1)\n",
        "    label = txt_file.split('.')[0]\n",
        "    partial_data['label'] = label\n",
        "    if data.empty: # append data if there is already data inside\n",
        "        data = partial_data\n",
        "    else:\n",
        "        data = data.append(partial_data)\n",
        "data = data.reset_index().drop('index',axis=1)"
      ],
      "execution_count": 11,
      "outputs": []
    },
    {
      "cell_type": "code",
      "metadata": {
        "id": "2smb4QXk6CCA",
        "colab_type": "code",
        "colab": {
          "base_uri": "https://localhost:8080/",
          "height": 287
        },
        "outputId": "8012437d-f154-4600-fa0c-bce56a30d7f5"
      },
      "source": [
        "data.describe()"
      ],
      "execution_count": 50,
      "outputs": [
        {
          "output_type": "execute_result",
          "data": {
            "text/html": [
              "<div>\n",
              "<style scoped>\n",
              "    .dataframe tbody tr th:only-of-type {\n",
              "        vertical-align: middle;\n",
              "    }\n",
              "\n",
              "    .dataframe tbody tr th {\n",
              "        vertical-align: top;\n",
              "    }\n",
              "\n",
              "    .dataframe thead th {\n",
              "        text-align: right;\n",
              "    }\n",
              "</style>\n",
              "<table border=\"1\" class=\"dataframe\">\n",
              "  <thead>\n",
              "    <tr style=\"text-align: right;\">\n",
              "      <th></th>\n",
              "      <th>Epoch</th>\n",
              "      <th>TOF_1</th>\n",
              "      <th>TOF_2</th>\n",
              "      <th>TOF_3</th>\n",
              "      <th>Accel</th>\n",
              "      <th>Yaw</th>\n",
              "      <th>Pitch</th>\n",
              "      <th>LDR</th>\n",
              "    </tr>\n",
              "  </thead>\n",
              "  <tbody>\n",
              "    <tr>\n",
              "      <th>count</th>\n",
              "      <td>7.650000e+02</td>\n",
              "      <td>765.000000</td>\n",
              "      <td>765.000000</td>\n",
              "      <td>765.000000</td>\n",
              "      <td>765.000000</td>\n",
              "      <td>765.000000</td>\n",
              "      <td>765.000000</td>\n",
              "      <td>765.000000</td>\n",
              "    </tr>\n",
              "    <tr>\n",
              "      <th>mean</th>\n",
              "      <td>1.592923e+09</td>\n",
              "      <td>151.952941</td>\n",
              "      <td>150.972549</td>\n",
              "      <td>123.988235</td>\n",
              "      <td>9.371242</td>\n",
              "      <td>84.227451</td>\n",
              "      <td>63.662745</td>\n",
              "      <td>58.963399</td>\n",
              "    </tr>\n",
              "    <tr>\n",
              "      <th>std</th>\n",
              "      <td>9.145831e+02</td>\n",
              "      <td>81.762764</td>\n",
              "      <td>83.891715</td>\n",
              "      <td>86.672239</td>\n",
              "      <td>0.709479</td>\n",
              "      <td>38.723250</td>\n",
              "      <td>41.602032</td>\n",
              "      <td>77.091679</td>\n",
              "    </tr>\n",
              "    <tr>\n",
              "      <th>min</th>\n",
              "      <td>1.592922e+09</td>\n",
              "      <td>19.000000</td>\n",
              "      <td>12.000000</td>\n",
              "      <td>1.000000</td>\n",
              "      <td>7.000000</td>\n",
              "      <td>1.000000</td>\n",
              "      <td>1.000000</td>\n",
              "      <td>3.000000</td>\n",
              "    </tr>\n",
              "    <tr>\n",
              "      <th>25%</th>\n",
              "      <td>1.592922e+09</td>\n",
              "      <td>91.000000</td>\n",
              "      <td>88.000000</td>\n",
              "      <td>63.000000</td>\n",
              "      <td>9.000000</td>\n",
              "      <td>91.000000</td>\n",
              "      <td>8.000000</td>\n",
              "      <td>18.000000</td>\n",
              "    </tr>\n",
              "    <tr>\n",
              "      <th>50%</th>\n",
              "      <td>1.592922e+09</td>\n",
              "      <td>102.000000</td>\n",
              "      <td>98.000000</td>\n",
              "      <td>97.000000</td>\n",
              "      <td>9.000000</td>\n",
              "      <td>102.000000</td>\n",
              "      <td>91.000000</td>\n",
              "      <td>43.000000</td>\n",
              "    </tr>\n",
              "    <tr>\n",
              "      <th>75%</th>\n",
              "      <td>1.592924e+09</td>\n",
              "      <td>255.000000</td>\n",
              "      <td>255.000000</td>\n",
              "      <td>252.000000</td>\n",
              "      <td>10.000000</td>\n",
              "      <td>106.000000</td>\n",
              "      <td>93.000000</td>\n",
              "      <td>58.000000</td>\n",
              "    </tr>\n",
              "    <tr>\n",
              "      <th>max</th>\n",
              "      <td>1.592924e+09</td>\n",
              "      <td>255.000000</td>\n",
              "      <td>255.000000</td>\n",
              "      <td>255.000000</td>\n",
              "      <td>15.000000</td>\n",
              "      <td>176.000000</td>\n",
              "      <td>122.000000</td>\n",
              "      <td>569.000000</td>\n",
              "    </tr>\n",
              "  </tbody>\n",
              "</table>\n",
              "</div>"
            ],
            "text/plain": [
              "              Epoch       TOF_1       TOF_2  ...         Yaw       Pitch        LDR \n",
              "count  7.650000e+02  765.000000  765.000000  ...  765.000000  765.000000  765.000000\n",
              "mean   1.592923e+09  151.952941  150.972549  ...   84.227451   63.662745   58.963399\n",
              "std    9.145831e+02   81.762764   83.891715  ...   38.723250   41.602032   77.091679\n",
              "min    1.592922e+09   19.000000   12.000000  ...    1.000000    1.000000    3.000000\n",
              "25%    1.592922e+09   91.000000   88.000000  ...   91.000000    8.000000   18.000000\n",
              "50%    1.592922e+09  102.000000   98.000000  ...  102.000000   91.000000   43.000000\n",
              "75%    1.592924e+09  255.000000  255.000000  ...  106.000000   93.000000   58.000000\n",
              "max    1.592924e+09  255.000000  255.000000  ...  176.000000  122.000000  569.000000\n",
              "\n",
              "[8 rows x 8 columns]"
            ]
          },
          "metadata": {
            "tags": []
          },
          "execution_count": 50
        }
      ]
    },
    {
      "cell_type": "markdown",
      "metadata": {
        "id": "z_QEb2bOPInT",
        "colab_type": "text"
      },
      "source": [
        "Store compiled data"
      ]
    },
    {
      "cell_type": "code",
      "metadata": {
        "id": "J20rSWrh60PD",
        "colab_type": "code",
        "colab": {}
      },
      "source": [
        "os.makedirs('compiled', exist_ok=True)\n",
        "data.to_feather('compiled/compiled_data')\n",
        "# can use pd.read_feather('compiled/compiled_data') to load data in the future"
      ],
      "execution_count": 52,
      "outputs": []
    },
    {
      "cell_type": "markdown",
      "metadata": {
        "id": "jaqaIvPYIjca",
        "colab_type": "text"
      },
      "source": [
        "##Creating a classifier"
      ]
    },
    {
      "cell_type": "markdown",
      "metadata": {
        "id": "kEzw6r9XQ4QZ",
        "colab_type": "text"
      },
      "source": [
        "### Random Forest"
      ]
    },
    {
      "cell_type": "code",
      "metadata": {
        "id": "g0pfBoAgXmoT",
        "colab_type": "code",
        "colab": {
          "base_uri": "https://localhost:8080/",
          "height": 197
        },
        "outputId": "86f9003e-4716-47c5-839a-474d31d247ab"
      },
      "source": [
        "df_raw = pd.read_feather('compiled/compiled_data')\n",
        "df_raw.head()"
      ],
      "execution_count": 38,
      "outputs": [
        {
          "output_type": "execute_result",
          "data": {
            "text/html": [
              "<div>\n",
              "<style scoped>\n",
              "    .dataframe tbody tr th:only-of-type {\n",
              "        vertical-align: middle;\n",
              "    }\n",
              "\n",
              "    .dataframe tbody tr th {\n",
              "        vertical-align: top;\n",
              "    }\n",
              "\n",
              "    .dataframe thead th {\n",
              "        text-align: right;\n",
              "    }\n",
              "</style>\n",
              "<table border=\"1\" class=\"dataframe\">\n",
              "  <thead>\n",
              "    <tr style=\"text-align: right;\">\n",
              "      <th></th>\n",
              "      <th>Epoch</th>\n",
              "      <th>TOF_1</th>\n",
              "      <th>TOF_2</th>\n",
              "      <th>TOF_3</th>\n",
              "      <th>Accel</th>\n",
              "      <th>Yaw</th>\n",
              "      <th>Pitch</th>\n",
              "      <th>LDR</th>\n",
              "      <th>label</th>\n",
              "    </tr>\n",
              "  </thead>\n",
              "  <tbody>\n",
              "    <tr>\n",
              "      <th>0</th>\n",
              "      <td>1592923701</td>\n",
              "      <td>178</td>\n",
              "      <td>180</td>\n",
              "      <td>185</td>\n",
              "      <td>10</td>\n",
              "      <td>93</td>\n",
              "      <td>95</td>\n",
              "      <td>101</td>\n",
              "      <td>Watching TV</td>\n",
              "    </tr>\n",
              "    <tr>\n",
              "      <th>1</th>\n",
              "      <td>1592923702</td>\n",
              "      <td>255</td>\n",
              "      <td>255</td>\n",
              "      <td>255</td>\n",
              "      <td>9</td>\n",
              "      <td>98</td>\n",
              "      <td>90</td>\n",
              "      <td>94</td>\n",
              "      <td>Watching TV</td>\n",
              "    </tr>\n",
              "    <tr>\n",
              "      <th>2</th>\n",
              "      <td>1592923704</td>\n",
              "      <td>255</td>\n",
              "      <td>255</td>\n",
              "      <td>255</td>\n",
              "      <td>10</td>\n",
              "      <td>92</td>\n",
              "      <td>90</td>\n",
              "      <td>101</td>\n",
              "      <td>Watching TV</td>\n",
              "    </tr>\n",
              "    <tr>\n",
              "      <th>3</th>\n",
              "      <td>1592923705</td>\n",
              "      <td>255</td>\n",
              "      <td>255</td>\n",
              "      <td>255</td>\n",
              "      <td>9</td>\n",
              "      <td>92</td>\n",
              "      <td>12</td>\n",
              "      <td>81</td>\n",
              "      <td>Watching TV</td>\n",
              "    </tr>\n",
              "    <tr>\n",
              "      <th>4</th>\n",
              "      <td>1592923707</td>\n",
              "      <td>255</td>\n",
              "      <td>255</td>\n",
              "      <td>255</td>\n",
              "      <td>9</td>\n",
              "      <td>91</td>\n",
              "      <td>6</td>\n",
              "      <td>86</td>\n",
              "      <td>Watching TV</td>\n",
              "    </tr>\n",
              "  </tbody>\n",
              "</table>\n",
              "</div>"
            ],
            "text/plain": [
              "        Epoch   TOF_1   TOF_2   TOF_3   Accel   Yaw   Pitch   LDR         label\n",
              "0  1592923701     178     180     185      10    93      95    101  Watching TV\n",
              "1  1592923702     255     255     255       9    98      90     94  Watching TV\n",
              "2  1592923704     255     255     255      10    92      90    101  Watching TV\n",
              "3  1592923705     255     255     255       9    92      12     81  Watching TV\n",
              "4  1592923707     255     255     255       9    91       6     86  Watching TV"
            ]
          },
          "metadata": {
            "tags": []
          },
          "execution_count": 38
        }
      ]
    },
    {
      "cell_type": "markdown",
      "metadata": {
        "id": "3tU62ip9X8MV",
        "colab_type": "text"
      },
      "source": [
        "Replace categories with their numeric codes, handle missing continuous values, and split the dependent variable into a separate variable.\n",
        "\n"
      ]
    },
    {
      "cell_type": "code",
      "metadata": {
        "id": "XA5dmF8UYaiW",
        "colab_type": "code",
        "colab": {
          "base_uri": "https://localhost:8080/",
          "height": 200
        },
        "outputId": "7ddd02a4-ed0e-4488-e5b2-39864760db34"
      },
      "source": [
        "X = df_raw.drop('label',axis=1)\n",
        "y = df_raw['label']\n",
        "print(y.head(), X.head())"
      ],
      "execution_count": 39,
      "outputs": [
        {
          "output_type": "stream",
          "text": [
            "0    Watching TV\n",
            "1    Watching TV\n",
            "2    Watching TV\n",
            "3    Watching TV\n",
            "4    Watching TV\n",
            "Name: label, dtype: object         Epoch   TOF_1   TOF_2   TOF_3   Accel   Yaw   Pitch   LDR \n",
            "0  1592923701     178     180     185      10    93      95    101\n",
            "1  1592923702     255     255     255       9    98      90     94\n",
            "2  1592923704     255     255     255      10    92      90    101\n",
            "3  1592923705     255     255     255       9    92      12     81\n",
            "4  1592923707     255     255     255       9    91       6     86\n"
          ],
          "name": "stdout"
        }
      ]
    },
    {
      "cell_type": "markdown",
      "metadata": {
        "id": "D7h_hS8ia1Y6",
        "colab_type": "text"
      },
      "source": [
        "Generate train and test sets"
      ]
    },
    {
      "cell_type": "code",
      "metadata": {
        "id": "1-2K15m8Yh2r",
        "colab_type": "code",
        "colab": {}
      },
      "source": [
        "X_train, X_test, y_train, y_test = model_selection.train_test_split(X, y, test_size=0.3)"
      ],
      "execution_count": 40,
      "outputs": []
    },
    {
      "cell_type": "markdown",
      "metadata": {
        "id": "9ltklj0Ea3tr",
        "colab_type": "text"
      },
      "source": [
        "Create classifier and fit."
      ]
    },
    {
      "cell_type": "code",
      "metadata": {
        "id": "X8GnG_epafPj",
        "colab_type": "code",
        "colab": {}
      },
      "source": [
        "#Create a Gaussian Classifier\n",
        "classifier=RandomForestClassifier(n_estimators=100)\n",
        "\n",
        "#Train the model using the training sets y_pred=clf.predict(X_test)\n",
        "classifier.fit(X_train,y_train)\n",
        "\n",
        "y_pred=classifier.predict(X_test)"
      ],
      "execution_count": 41,
      "outputs": []
    },
    {
      "cell_type": "markdown",
      "metadata": {
        "id": "PkgMOF62a7Ug",
        "colab_type": "text"
      },
      "source": [
        "View results"
      ]
    },
    {
      "cell_type": "code",
      "metadata": {
        "id": "aewQPiykawiV",
        "colab_type": "code",
        "colab": {
          "base_uri": "https://localhost:8080/",
          "height": 33
        },
        "outputId": "946083db-f03d-4b3b-84a4-30bb3de74143"
      },
      "source": [
        "# Model Accuracy, how often is the classifier correct?\n",
        "print(\"Accuracy:\",metrics.accuracy_score(y_test, y_pred))"
      ],
      "execution_count": 42,
      "outputs": [
        {
          "output_type": "stream",
          "text": [
            "Accuracy: 1.0\n"
          ],
          "name": "stdout"
        }
      ]
    },
    {
      "cell_type": "markdown",
      "metadata": {
        "id": "I4UfKOHGbF4S",
        "colab_type": "text"
      },
      "source": [
        "Analyse feature by importance."
      ]
    },
    {
      "cell_type": "code",
      "metadata": {
        "id": "2e2B4Rcka86B",
        "colab_type": "code",
        "colab": {
          "base_uri": "https://localhost:8080/",
          "height": 167
        },
        "outputId": "4ba91293-503c-414c-d65a-105fda0b6be5"
      },
      "source": [
        "feature_imp = pd.Series(classifier.feature_importances_,index=X.columns).sort_values(ascending=False)\n",
        "feature_imp"
      ],
      "execution_count": 43,
      "outputs": [
        {
          "output_type": "execute_result",
          "data": {
            "text/plain": [
              "Epoch     0.329434\n",
              " TOF_1    0.179682\n",
              " TOF_2    0.151009\n",
              " TOF_3    0.105195\n",
              " LDR      0.102931\n",
              " Yaw      0.100352\n",
              " Pitch    0.020341\n",
              " Accel    0.011057\n",
              "dtype: float64"
            ]
          },
          "metadata": {
            "tags": []
          },
          "execution_count": 43
        }
      ]
    },
    {
      "cell_type": "markdown",
      "metadata": {
        "id": "J7lBUXXYbWY1",
        "colab_type": "text"
      },
      "source": [
        "Possible overfitting due to epoch number. i.e. Since the data is acquired in chronological order, the epoch number is a cheat for the classifier to predict the correct label.\n",
        "\n",
        "### Point for Consideration\n",
        "Does this mean epoch number is not a good factor for prediction? If it is not used should it even be collected ?"
      ]
    },
    {
      "cell_type": "markdown",
      "metadata": {
        "id": "fEMWrcePb_aq",
        "colab_type": "text"
      },
      "source": [
        "### Retraining without epoch number"
      ]
    },
    {
      "cell_type": "code",
      "metadata": {
        "id": "uirFv45fcBhk",
        "colab_type": "code",
        "colab": {
          "base_uri": "https://localhost:8080/",
          "height": 200
        },
        "outputId": "c21b24c5-709e-427f-e249-7244b764ddc2"
      },
      "source": [
        "X = df_raw.drop(['label','Epoch'],axis=1)\n",
        "y = df_raw['label']\n",
        "print(y.head(), X.head())"
      ],
      "execution_count": 44,
      "outputs": [
        {
          "output_type": "stream",
          "text": [
            "0    Watching TV\n",
            "1    Watching TV\n",
            "2    Watching TV\n",
            "3    Watching TV\n",
            "4    Watching TV\n",
            "Name: label, dtype: object     TOF_1   TOF_2   TOF_3   Accel   Yaw   Pitch   LDR \n",
            "0     178     180     185      10    93      95    101\n",
            "1     255     255     255       9    98      90     94\n",
            "2     255     255     255      10    92      90    101\n",
            "3     255     255     255       9    92      12     81\n",
            "4     255     255     255       9    91       6     86\n"
          ],
          "name": "stdout"
        }
      ]
    },
    {
      "cell_type": "code",
      "metadata": {
        "id": "PYiRTzyFcVdv",
        "colab_type": "code",
        "colab": {
          "base_uri": "https://localhost:8080/",
          "height": 33
        },
        "outputId": "db7a4e67-05c1-48b7-d22a-5560f11f3de3"
      },
      "source": [
        "X_train, X_test, y_train, y_test = model_selection.train_test_split(X, y, test_size=0.3)\n",
        "#Create a Gaussian Classifier\n",
        "classifier=RandomForestClassifier(n_estimators=100)\n",
        "\n",
        "#Train the model using the training sets y_pred=clf.predict(X_test)\n",
        "classifier.fit(X_train,y_train)\n",
        "\n",
        "y_pred=classifier.predict(X_test)\n",
        "# Model Accuracy, how often is the classifier correct?\n",
        "print(\"Accuracy:\",metrics.accuracy_score(y_test, y_pred))"
      ],
      "execution_count": 45,
      "outputs": [
        {
          "output_type": "stream",
          "text": [
            "Accuracy: 0.9826086956521739\n"
          ],
          "name": "stdout"
        }
      ]
    },
    {
      "cell_type": "code",
      "metadata": {
        "id": "1ZpmlbBZcgJm",
        "colab_type": "code",
        "colab": {
          "base_uri": "https://localhost:8080/",
          "height": 150
        },
        "outputId": "90e01079-272e-4aa0-9604-4b7327f05bd9"
      },
      "source": [
        "feature_imp = pd.Series(classifier.feature_importances_,index=X.columns).sort_values(ascending=False)\n",
        "feature_imp"
      ],
      "execution_count": 46,
      "outputs": [
        {
          "output_type": "execute_result",
          "data": {
            "text/plain": [
              " TOF_1    0.234034\n",
              " TOF_2    0.205942\n",
              " Yaw      0.183185\n",
              " TOF_3    0.176737\n",
              " LDR      0.166019\n",
              " Pitch    0.020783\n",
              " Accel    0.013299\n",
              "dtype: float64"
            ]
          },
          "metadata": {
            "tags": []
          },
          "execution_count": 46
        }
      ]
    },
    {
      "cell_type": "markdown",
      "metadata": {
        "id": "XzY7VF3GI2M7",
        "colab_type": "text"
      },
      "source": [
        "Uneven importance of TOF sensors. Could it be due to user's habits? Tendency to lean towards a certain side when performing a certain action like watching tv? Might want to get more data from different people"
      ]
    },
    {
      "cell_type": "markdown",
      "metadata": {
        "id": "TfZ2cjWSIznR",
        "colab_type": "text"
      },
      "source": [
        "### Saving model"
      ]
    },
    {
      "cell_type": "code",
      "metadata": {
        "id": "UXujEccZJMUx",
        "colab_type": "code",
        "colab": {
          "base_uri": "https://localhost:8080/",
          "height": 33
        },
        "outputId": "5d4e6946-a4cd-4026-8259-99189026c327"
      },
      "source": [
        "save_filename = 'classifier_rf_160720'\n",
        "joblib.dump(classifier,os.path.join(data_path, save_filename))\n",
        "# Can use joblib.load() to load this model in the future"
      ],
      "execution_count": 48,
      "outputs": [
        {
          "output_type": "execute_result",
          "data": {
            "text/plain": [
              "['data/23 Jun 2020/classifier_rf_160720']"
            ]
          },
          "metadata": {
            "tags": []
          },
          "execution_count": 48
        }
      ]
    },
    {
      "cell_type": "code",
      "metadata": {
        "id": "i_-XMN-BJtPd",
        "colab_type": "code",
        "colab": {}
      },
      "source": [
        ""
      ],
      "execution_count": null,
      "outputs": []
    }
  ]
}